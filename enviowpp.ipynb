{
 "cells": [
  {
   "cell_type": "code",
   "execution_count": null,
   "metadata": {},
   "outputs": [],
   "source": [
    "import pywhatkit as kit\n",
    "\n",
    "kit.sendwhatmsg(\"insira o numero aqui\", \"envio para somente um numero automatizado\",16,45) #apos inserir o numero e a mensagem insira a hora do envio da mensagem\n",
    "print(\"mensagem enviada com sucesso \")"
   ]
  },
  {
   "cell_type": "code",
   "execution_count": null,
   "metadata": {},
   "outputs": [],
   "source": [
    "#envio de mensagem para mais de um numero\n",
    "\n",
    "import pywhatkit as kit\n",
    "\n",
    "numeros = ['numero para teste1','numero para teste 2']\n",
    "mensagem = \"Ola esse é um teste de envio de mensagem automatizado com python para mais de um numero\"\n",
    "\n",
    "hora = 18\n",
    "\n",
    "for numero in numeros:\n",
    "    kit.sendwhatmsg(numero,mensagem,hora,0)\n",
    "    \n",
    "print(\"mensagens enviadas com sucesso\")    "
   ]
  }
 ],
 "metadata": {
  "kernelspec": {
   "display_name": "base",
   "language": "python",
   "name": "python3"
  },
  "language_info": {
   "codemirror_mode": {
    "name": "ipython",
    "version": 3
   },
   "file_extension": ".py",
   "mimetype": "text/x-python",
   "name": "python",
   "nbconvert_exporter": "python",
   "pygments_lexer": "ipython3",
   "version": "3.11.3"
  },
  "orig_nbformat": 4
 },
 "nbformat": 4,
 "nbformat_minor": 2
}
